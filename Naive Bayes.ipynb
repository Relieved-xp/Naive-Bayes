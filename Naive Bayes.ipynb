{
 "cells": [
  {
   "cell_type": "code",
   "execution_count": 1,
   "metadata": {},
   "outputs": [],
   "source": [
    "import pandas as pd\n",
    "import numpy as np"
   ]
  },
  {
   "cell_type": "code",
   "execution_count": 2,
   "metadata": {},
   "outputs": [
    {
     "name": "stdout",
     "output_type": "stream",
     "text": [
      "    RID          age  income student credit_rating Class:buys_computer\n",
      "0     1        youth    high      no          fair                  no\n",
      "1     2        youth    high      no     excellent                  no\n",
      "2     3  middle_aged    high      no          fair                 yes\n",
      "3     4       senior  medium      no          fair                 yes\n",
      "4     5       senior     low     yes          fair                 yes\n",
      "5     6       senior     low     yes     excellent                  no\n",
      "6     7  middle_aged     low     yes     excellent                 yes\n",
      "7     8        youth  medium      no          fair                  no\n",
      "8     9        youth     low     yes          fair                 yes\n",
      "9    10       senior  medium     yes          fair                 yes\n",
      "10   11        youth  medium     yes     excellent                 yes\n",
      "11   12  middle_aged  medium      no     excellent                 yes\n",
      "12   13  middle_aged    high     yes          fair                 yes\n",
      "13   14       senior  medium      no     excellent                  no\n"
     ]
    }
   ],
   "source": [
    "#从excel中读取数据\n",
    "data = pd.read_excel('bys_data.xlsx')\n",
    "print(data)\n",
    "data = np.array(data)\n",
    "\n",
    "ren = ['youth', 'medium', 'yes', 'fair']"
   ]
  },
  {
   "cell_type": "code",
   "execution_count": 3,
   "metadata": {},
   "outputs": [
    {
     "name": "stdout",
     "output_type": "stream",
     "text": [
      "yes: [array([3, 'middle_aged', 'high', 'no', 'fair', 'yes'], dtype=object), array([4, 'senior', 'medium', 'no', 'fair', 'yes'], dtype=object), array([5, 'senior', 'low', 'yes', 'fair', 'yes'], dtype=object), array([7, 'middle_aged', 'low', 'yes', 'excellent', 'yes'], dtype=object), array([9, 'youth', 'low', 'yes', 'fair', 'yes'], dtype=object), array([10, 'senior', 'medium', 'yes', 'fair', 'yes'], dtype=object), array([11, 'youth', 'medium', 'yes', 'excellent', 'yes'], dtype=object), array([12, 'middle_aged', 'medium', 'no', 'excellent', 'yes'],\n",
      "      dtype=object), array([13, 'middle_aged', 'high', 'yes', 'fair', 'yes'], dtype=object)]\n",
      "no: [array([1, 'youth', 'high', 'no', 'fair', 'no'], dtype=object), array([2, 'youth', 'high', 'no', 'excellent', 'no'], dtype=object), array([6, 'senior', 'low', 'yes', 'excellent', 'no'], dtype=object), array([8, 'youth', 'medium', 'no', 'fair', 'no'], dtype=object), array([14, 'senior', 'medium', 'no', 'excellent', 'no'], dtype=object)]\n"
     ]
    }
   ],
   "source": [
    "#将数据分为两类：买/不买\n",
    "data_yes = []\n",
    "data_no = []\n",
    "\n",
    "for obj in data:\n",
    "    if(obj[5]=='yes'):\n",
    "        data_yes.append(obj)\n",
    "    else:\n",
    "        data_no.append(obj)\n",
    "print('yes:', data_yes)\n",
    "print('no:', data_no)"
   ]
  },
  {
   "cell_type": "code",
   "execution_count": 4,
   "metadata": {},
   "outputs": [
    {
     "name": "stdout",
     "output_type": "stream",
     "text": [
      "[0.222, 0.444, 0.667, 0.667]\n",
      "[0.6, 0.4, 0.2, 0.4]\n"
     ]
    }
   ],
   "source": [
    "#统计两类中各个条件占比\n",
    "yes_rate_list = []\n",
    "no_rate_list = []\n",
    "\n",
    "def getRate(ren, data):\n",
    "    rate_list = []\n",
    "    \n",
    "    #k硬性限制列表比较位置，可改成标签存储位置\n",
    "    \n",
    "    k = 1\n",
    "    for i in ren:\n",
    "        count = 0\n",
    "        for j in data:\n",
    "            #print('$: ', i, ' == ', j[k])\n",
    "            if(i == j[k]):\n",
    "                count = count + 1\n",
    "        k = k + 1\n",
    "        rate_list.append(round(count/len(data),3)) \n",
    "    return rate_list\n",
    "\n",
    "yes_rate_list = getRate(ren, data_yes)\n",
    "no_rate_list = getRate(ren, data_no)\n",
    "\n",
    "print(yes_rate_list)\n",
    "print(no_rate_list)\n",
    " "
   ]
  },
  {
   "cell_type": "code",
   "execution_count": 6,
   "metadata": {},
   "outputs": [
    {
     "name": "stdout",
     "output_type": "stream",
     "text": [
      "购买概率： 0.044\n",
      "不购买概率： 0.019\n",
      "预测会购买！\n"
     ]
    }
   ],
   "source": [
    "#计算条件概率，比较大小\n",
    "rate_yes = 1\n",
    "rate_no = 1\n",
    "\n",
    "for i in range(len(ren)):\n",
    "    rate_yes = rate_yes * yes_rate_list[i]\n",
    "    rate_no = rate_no * no_rate_list[i]\n",
    "print('购买概率：', round(rate_yes,3))\n",
    "print('不购买概率：', round(rate_no,3))\n",
    "if(rate_yes > rate_no):\n",
    "    print('预测会购买！')\n",
    "else:\n",
    "    print('预测不会购买！')\n"
   ]
  }
 ],
 "metadata": {
  "kernelspec": {
   "display_name": "Python 3",
   "language": "python",
   "name": "python3"
  },
  "language_info": {
   "codemirror_mode": {
    "name": "ipython",
    "version": 3
   },
   "file_extension": ".py",
   "mimetype": "text/x-python",
   "name": "python",
   "nbconvert_exporter": "python",
   "pygments_lexer": "ipython3",
   "version": "3.8.5"
  }
 },
 "nbformat": 4,
 "nbformat_minor": 4
}
